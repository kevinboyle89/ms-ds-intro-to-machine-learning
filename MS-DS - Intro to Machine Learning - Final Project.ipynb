{
 "cells": [
  {
   "cell_type": "markdown",
   "id": "1fa7b27f",
   "metadata": {},
   "source": [
    "# Wine Quality Prediction Machine Learning Model\n",
    "## Introduction to Machine Learning: Supervised Learning Final Project\n",
    "## By: Kevin Boyle (MS-DS)\n",
    "\n",
    "### Project Topic \n",
    "\n",
    "Hello! In my final project, I am going to read in a dataset of red wines. I got this red wine dataset from the following website: https://archive.ics.uci.edu/dataset/186/wine+quality\n",
    "\n",
    "The data set contain 11 feature columns:\n",
    "1. Fixed Acidity\n",
    "2. Volatile Acidity\n",
    "3. Citric Acid\n",
    "4. Residual Sugar\n",
    "5. Chlorides\n",
    "6. Free Sulfur Dioxide\n",
    "7. Total Sulfur Dioxide\n",
    "8. Density\n",
    "9. pH\n",
    "10. Sulphates\n",
    "11. Alcohol\n",
    "\n",
    "In addition, it contains the column \"Quality\", with a score from 3 to 8 which determines whether a wine is considered bad (lower score) or good (higher score). \n",
    "\n",
    "In my project, I am going to read in this data, and then use a support vector machine (SVM) to best utilize the feature columns to predict quality in wines."
   ]
  },
  {
   "cell_type": "markdown",
   "id": "691cf694",
   "metadata": {},
   "source": [
    "### Data Import, EDA and Cleaning"
   ]
  },
  {
   "cell_type": "markdown",
   "id": "3a1afd1c",
   "metadata": {},
   "source": [
    "The first thing I am going to do is import all necessary packages into my notebook. I also included the nonlinear plot function from our week 6 assignment for visualizations in this project."
   ]
  },
  {
   "cell_type": "code",
   "execution_count": 1,
   "id": "daee8f29",
   "metadata": {},
   "outputs": [],
   "source": [
    "import pandas as pd\n",
    "import numpy as np\n",
    "from sklearn.svm import SVC\n",
    "from sklearn.model_selection import train_test_split, cross_val_score, GridSearchCV\n",
    "from sklearn.metrics import accuracy_score\n",
    "from sklearn.preprocessing import StandardScaler\n",
    "import matplotlib.pyplot as plt\n",
    "%matplotlib inline\n",
    "from mlxtend.evaluate import feature_importance_permutation"
   ]
  },
  {
   "cell_type": "markdown",
   "id": "e5ce943e",
   "metadata": {},
   "source": [
    "I am next going to read in the data set."
   ]
  },
  {
   "cell_type": "code",
   "execution_count": 2,
   "id": "1d1829d8",
   "metadata": {},
   "outputs": [],
   "source": [
    "wine_data = pd.read_csv(\"winequality-red.csv\")"
   ]
  },
  {
   "cell_type": "code",
   "execution_count": 3,
   "id": "5409fe6f",
   "metadata": {},
   "outputs": [
    {
     "name": "stdout",
     "output_type": "stream",
     "text": [
      "<class 'pandas.core.frame.DataFrame'>\n",
      "RangeIndex: 1599 entries, 0 to 1598\n",
      "Data columns (total 12 columns):\n",
      " #   Column                Non-Null Count  Dtype  \n",
      "---  ------                --------------  -----  \n",
      " 0   fixed acidity         1599 non-null   float64\n",
      " 1   volatile acidity      1599 non-null   float64\n",
      " 2   citric acid           1599 non-null   float64\n",
      " 3   residual sugar        1599 non-null   float64\n",
      " 4   chlorides             1599 non-null   float64\n",
      " 5   free sulfur dioxide   1599 non-null   float64\n",
      " 6   total sulfur dioxide  1599 non-null   float64\n",
      " 7   density               1599 non-null   float64\n",
      " 8   pH                    1599 non-null   float64\n",
      " 9   sulphates             1599 non-null   float64\n",
      " 10  alcohol               1599 non-null   float64\n",
      " 11  quality               1599 non-null   int64  \n",
      "dtypes: float64(11), int64(1)\n",
      "memory usage: 150.0 KB\n"
     ]
    }
   ],
   "source": [
    "wine_data.info()"
   ]
  },
  {
   "cell_type": "code",
   "execution_count": 4,
   "id": "2023d165",
   "metadata": {},
   "outputs": [
    {
     "data": {
      "text/html": [
       "<div>\n",
       "<style scoped>\n",
       "    .dataframe tbody tr th:only-of-type {\n",
       "        vertical-align: middle;\n",
       "    }\n",
       "\n",
       "    .dataframe tbody tr th {\n",
       "        vertical-align: top;\n",
       "    }\n",
       "\n",
       "    .dataframe thead th {\n",
       "        text-align: right;\n",
       "    }\n",
       "</style>\n",
       "<table border=\"1\" class=\"dataframe\">\n",
       "  <thead>\n",
       "    <tr style=\"text-align: right;\">\n",
       "      <th></th>\n",
       "      <th>fixed acidity</th>\n",
       "      <th>volatile acidity</th>\n",
       "      <th>citric acid</th>\n",
       "      <th>residual sugar</th>\n",
       "      <th>chlorides</th>\n",
       "      <th>free sulfur dioxide</th>\n",
       "      <th>total sulfur dioxide</th>\n",
       "      <th>density</th>\n",
       "      <th>pH</th>\n",
       "      <th>sulphates</th>\n",
       "      <th>alcohol</th>\n",
       "      <th>quality</th>\n",
       "    </tr>\n",
       "  </thead>\n",
       "  <tbody>\n",
       "    <tr>\n",
       "      <th>0</th>\n",
       "      <td>7.4</td>\n",
       "      <td>0.70</td>\n",
       "      <td>0.00</td>\n",
       "      <td>1.9</td>\n",
       "      <td>0.076</td>\n",
       "      <td>11.0</td>\n",
       "      <td>34.0</td>\n",
       "      <td>0.9978</td>\n",
       "      <td>3.51</td>\n",
       "      <td>0.56</td>\n",
       "      <td>9.4</td>\n",
       "      <td>5</td>\n",
       "    </tr>\n",
       "    <tr>\n",
       "      <th>1</th>\n",
       "      <td>7.8</td>\n",
       "      <td>0.88</td>\n",
       "      <td>0.00</td>\n",
       "      <td>2.6</td>\n",
       "      <td>0.098</td>\n",
       "      <td>25.0</td>\n",
       "      <td>67.0</td>\n",
       "      <td>0.9968</td>\n",
       "      <td>3.20</td>\n",
       "      <td>0.68</td>\n",
       "      <td>9.8</td>\n",
       "      <td>5</td>\n",
       "    </tr>\n",
       "    <tr>\n",
       "      <th>2</th>\n",
       "      <td>7.8</td>\n",
       "      <td>0.76</td>\n",
       "      <td>0.04</td>\n",
       "      <td>2.3</td>\n",
       "      <td>0.092</td>\n",
       "      <td>15.0</td>\n",
       "      <td>54.0</td>\n",
       "      <td>0.9970</td>\n",
       "      <td>3.26</td>\n",
       "      <td>0.65</td>\n",
       "      <td>9.8</td>\n",
       "      <td>5</td>\n",
       "    </tr>\n",
       "    <tr>\n",
       "      <th>3</th>\n",
       "      <td>11.2</td>\n",
       "      <td>0.28</td>\n",
       "      <td>0.56</td>\n",
       "      <td>1.9</td>\n",
       "      <td>0.075</td>\n",
       "      <td>17.0</td>\n",
       "      <td>60.0</td>\n",
       "      <td>0.9980</td>\n",
       "      <td>3.16</td>\n",
       "      <td>0.58</td>\n",
       "      <td>9.8</td>\n",
       "      <td>6</td>\n",
       "    </tr>\n",
       "    <tr>\n",
       "      <th>4</th>\n",
       "      <td>7.4</td>\n",
       "      <td>0.70</td>\n",
       "      <td>0.00</td>\n",
       "      <td>1.9</td>\n",
       "      <td>0.076</td>\n",
       "      <td>11.0</td>\n",
       "      <td>34.0</td>\n",
       "      <td>0.9978</td>\n",
       "      <td>3.51</td>\n",
       "      <td>0.56</td>\n",
       "      <td>9.4</td>\n",
       "      <td>5</td>\n",
       "    </tr>\n",
       "  </tbody>\n",
       "</table>\n",
       "</div>"
      ],
      "text/plain": [
       "   fixed acidity  volatile acidity  citric acid  residual sugar  chlorides  \\\n",
       "0            7.4              0.70         0.00             1.9      0.076   \n",
       "1            7.8              0.88         0.00             2.6      0.098   \n",
       "2            7.8              0.76         0.04             2.3      0.092   \n",
       "3           11.2              0.28         0.56             1.9      0.075   \n",
       "4            7.4              0.70         0.00             1.9      0.076   \n",
       "\n",
       "   free sulfur dioxide  total sulfur dioxide  density    pH  sulphates  \\\n",
       "0                 11.0                  34.0   0.9978  3.51       0.56   \n",
       "1                 25.0                  67.0   0.9968  3.20       0.68   \n",
       "2                 15.0                  54.0   0.9970  3.26       0.65   \n",
       "3                 17.0                  60.0   0.9980  3.16       0.58   \n",
       "4                 11.0                  34.0   0.9978  3.51       0.56   \n",
       "\n",
       "   alcohol  quality  \n",
       "0      9.4        5  \n",
       "1      9.8        5  \n",
       "2      9.8        5  \n",
       "3      9.8        6  \n",
       "4      9.4        5  "
      ]
     },
     "execution_count": 4,
     "metadata": {},
     "output_type": "execute_result"
    }
   ],
   "source": [
    "wine_data.head()"
   ]
  },
  {
   "cell_type": "markdown",
   "id": "ae62ac76",
   "metadata": {},
   "source": [
    "By reading in this dataset and seeing the info and head, we can determine that it is fairly clean. There are no null values to remove to change (1599 entries, and 1599 non-null count for each column), but I do see that quality is an integer value determining a score. For the sake of this machine learning model, we will only be predicting if a wine is bad (-1) or good (1), so I will be cleaning up that column."
   ]
  },
  {
   "cell_type": "code",
   "execution_count": 10,
   "id": "866d0bce",
   "metadata": {},
   "outputs": [
    {
     "data": {
      "text/plain": [
       "array([5, 6, 7, 4, 8, 3])"
      ]
     },
     "execution_count": 10,
     "metadata": {},
     "output_type": "execute_result"
    }
   ],
   "source": [
    "wine_data['quality'].unique()"
   ]
  },
  {
   "cell_type": "markdown",
   "id": "5b50980e",
   "metadata": {},
   "source": [
    "The quality score is 6 integers, from 3 to 8. For the purposes of this machine learning model, we will say that bad (-1) is the following scores: 3, 4, 5, and 6. A good (1) score is a 7 or 8. I will now reset those values in the dataset."
   ]
  },
  {
   "cell_type": "code",
   "execution_count": 11,
   "id": "1aea4136",
   "metadata": {},
   "outputs": [],
   "source": [
    "wine_data = wine_data.replace({'quality': {3: -1, 4: -1, 5: -1, 6: -1, 7: 1, 8: 1}})"
   ]
  },
  {
   "cell_type": "code",
   "execution_count": 12,
   "id": "86f3d207",
   "metadata": {},
   "outputs": [
    {
     "data": {
      "text/plain": [
       "array([-1,  1])"
      ]
     },
     "execution_count": 12,
     "metadata": {},
     "output_type": "execute_result"
    }
   ],
   "source": [
    "wine_data['quality'].unique()"
   ]
  },
  {
   "cell_type": "code",
   "execution_count": 13,
   "id": "6b12325e",
   "metadata": {},
   "outputs": [
    {
     "data": {
      "text/html": [
       "<div>\n",
       "<style scoped>\n",
       "    .dataframe tbody tr th:only-of-type {\n",
       "        vertical-align: middle;\n",
       "    }\n",
       "\n",
       "    .dataframe tbody tr th {\n",
       "        vertical-align: top;\n",
       "    }\n",
       "\n",
       "    .dataframe thead th {\n",
       "        text-align: right;\n",
       "    }\n",
       "</style>\n",
       "<table border=\"1\" class=\"dataframe\">\n",
       "  <thead>\n",
       "    <tr style=\"text-align: right;\">\n",
       "      <th></th>\n",
       "      <th>fixed acidity</th>\n",
       "      <th>volatile acidity</th>\n",
       "      <th>citric acid</th>\n",
       "      <th>residual sugar</th>\n",
       "      <th>chlorides</th>\n",
       "      <th>free sulfur dioxide</th>\n",
       "      <th>total sulfur dioxide</th>\n",
       "      <th>density</th>\n",
       "      <th>pH</th>\n",
       "      <th>sulphates</th>\n",
       "      <th>alcohol</th>\n",
       "      <th>quality</th>\n",
       "    </tr>\n",
       "  </thead>\n",
       "  <tbody>\n",
       "    <tr>\n",
       "      <th>0</th>\n",
       "      <td>7.4</td>\n",
       "      <td>0.70</td>\n",
       "      <td>0.00</td>\n",
       "      <td>1.9</td>\n",
       "      <td>0.076</td>\n",
       "      <td>11.0</td>\n",
       "      <td>34.0</td>\n",
       "      <td>0.9978</td>\n",
       "      <td>3.51</td>\n",
       "      <td>0.56</td>\n",
       "      <td>9.4</td>\n",
       "      <td>-1</td>\n",
       "    </tr>\n",
       "    <tr>\n",
       "      <th>1</th>\n",
       "      <td>7.8</td>\n",
       "      <td>0.88</td>\n",
       "      <td>0.00</td>\n",
       "      <td>2.6</td>\n",
       "      <td>0.098</td>\n",
       "      <td>25.0</td>\n",
       "      <td>67.0</td>\n",
       "      <td>0.9968</td>\n",
       "      <td>3.20</td>\n",
       "      <td>0.68</td>\n",
       "      <td>9.8</td>\n",
       "      <td>-1</td>\n",
       "    </tr>\n",
       "    <tr>\n",
       "      <th>2</th>\n",
       "      <td>7.8</td>\n",
       "      <td>0.76</td>\n",
       "      <td>0.04</td>\n",
       "      <td>2.3</td>\n",
       "      <td>0.092</td>\n",
       "      <td>15.0</td>\n",
       "      <td>54.0</td>\n",
       "      <td>0.9970</td>\n",
       "      <td>3.26</td>\n",
       "      <td>0.65</td>\n",
       "      <td>9.8</td>\n",
       "      <td>-1</td>\n",
       "    </tr>\n",
       "    <tr>\n",
       "      <th>3</th>\n",
       "      <td>11.2</td>\n",
       "      <td>0.28</td>\n",
       "      <td>0.56</td>\n",
       "      <td>1.9</td>\n",
       "      <td>0.075</td>\n",
       "      <td>17.0</td>\n",
       "      <td>60.0</td>\n",
       "      <td>0.9980</td>\n",
       "      <td>3.16</td>\n",
       "      <td>0.58</td>\n",
       "      <td>9.8</td>\n",
       "      <td>-1</td>\n",
       "    </tr>\n",
       "    <tr>\n",
       "      <th>4</th>\n",
       "      <td>7.4</td>\n",
       "      <td>0.70</td>\n",
       "      <td>0.00</td>\n",
       "      <td>1.9</td>\n",
       "      <td>0.076</td>\n",
       "      <td>11.0</td>\n",
       "      <td>34.0</td>\n",
       "      <td>0.9978</td>\n",
       "      <td>3.51</td>\n",
       "      <td>0.56</td>\n",
       "      <td>9.4</td>\n",
       "      <td>-1</td>\n",
       "    </tr>\n",
       "  </tbody>\n",
       "</table>\n",
       "</div>"
      ],
      "text/plain": [
       "   fixed acidity  volatile acidity  citric acid  residual sugar  chlorides  \\\n",
       "0            7.4              0.70         0.00             1.9      0.076   \n",
       "1            7.8              0.88         0.00             2.6      0.098   \n",
       "2            7.8              0.76         0.04             2.3      0.092   \n",
       "3           11.2              0.28         0.56             1.9      0.075   \n",
       "4            7.4              0.70         0.00             1.9      0.076   \n",
       "\n",
       "   free sulfur dioxide  total sulfur dioxide  density    pH  sulphates  \\\n",
       "0                 11.0                  34.0   0.9978  3.51       0.56   \n",
       "1                 25.0                  67.0   0.9968  3.20       0.68   \n",
       "2                 15.0                  54.0   0.9970  3.26       0.65   \n",
       "3                 17.0                  60.0   0.9980  3.16       0.58   \n",
       "4                 11.0                  34.0   0.9978  3.51       0.56   \n",
       "\n",
       "   alcohol  quality  \n",
       "0      9.4       -1  \n",
       "1      9.8       -1  \n",
       "2      9.8       -1  \n",
       "3      9.8       -1  \n",
       "4      9.4       -1  "
      ]
     },
     "execution_count": 13,
     "metadata": {},
     "output_type": "execute_result"
    }
   ],
   "source": [
    "wine_data.head()"
   ]
  },
  {
   "cell_type": "markdown",
   "id": "f9768e10",
   "metadata": {},
   "source": [
    "As you can see, now the quality column is a binary value between -1 (bad wine) and 1 (good wine). Using this cleaned data set, I will see if I can predict if a wine is good or bad."
   ]
  },
  {
   "cell_type": "code",
   "execution_count": 14,
   "id": "32d992c7",
   "metadata": {},
   "outputs": [
    {
     "data": {
      "text/plain": [
       "(array([1382.,    0.,    0.,    0.,    0.,    0.,    0.,    0.,    0.,\n",
       "         217.]),\n",
       " array([-1. , -0.8, -0.6, -0.4, -0.2,  0. ,  0.2,  0.4,  0.6,  0.8,  1. ]),\n",
       " <BarContainer object of 10 artists>)"
      ]
     },
     "execution_count": 14,
     "metadata": {},
     "output_type": "execute_result"
    },
    {
     "data": {
      "image/png": "[encoded data removed]",
      "text/plain": [
       "<Figure size 432x288 with 1 Axes>"
      ]
     },
     "metadata": {
      "needs_background": "light"
     },
     "output_type": "display_data"
    }
   ],
   "source": [
    "plt.hist(wine_data['quality'])"
   ]
  },
  {
   "cell_type": "markdown",
   "id": "94a27ccb",
   "metadata": {},
   "source": [
    "In this histogram and metadata above, you can see that using this quality classification system of Good being 7 and 8 on the quality scale, there are about 1400 \"bad\" wines and 200 or so \"good\" wines in the dataset to work with."
   ]
  },
  {
   "cell_type": "markdown",
   "id": "336e0e33",
   "metadata": {},
   "source": [
    "### Model"
   ]
  },
  {
   "cell_type": "markdown",
   "id": "1f5ad245",
   "metadata": {},
   "source": [
    "For this project, I am going to use a support vector machine (SVM) to try to get an accurate prediction of quality of wine. \n",
    "\n",
    "To start, I need to split up the data set into training and testing data. I will have the testing data be 25% of the data."
   ]
  },
  {
   "cell_type": "code",
   "execution_count": 15,
   "id": "f3c79139",
   "metadata": {},
   "outputs": [],
   "source": [
    "X = wine_data.drop('quality', axis = 1)\n",
    "y = wine_data['quality']\n",
    "X_train, X_test, y_train, y_test = train_test_split(X, y, test_size = 0.25, random_state = 42)"
   ]
  },
  {
   "cell_type": "markdown",
   "id": "a9f996c2",
   "metadata": {},
   "source": [
    "Now that I've split the data, I will train the model on the training data set."
   ]
  },
  {
   "cell_type": "code",
   "execution_count": 16,
   "id": "4628972e",
   "metadata": {},
   "outputs": [],
   "source": [
    "sc = StandardScaler()\n",
    "X_train = sc.fit_transform(X_train)\n",
    "X_test = sc.fit_transform(X_test)"
   ]
  },
  {
   "cell_type": "code",
   "execution_count": 17,
   "id": "3a269d60",
   "metadata": {},
   "outputs": [],
   "source": [
    "support_vector = SVC().fit(X_train, y_train)"
   ]
  },
  {
   "cell_type": "markdown",
   "id": "d15748ea",
   "metadata": {},
   "source": [
    "This is a standard SVC with all default values to start to get our baseline. By creating a predict function on the SVC and setting to y_pred, I can see what the accuracy would be."
   ]
  },
  {
   "cell_type": "code",
   "execution_count": 18,
   "id": "a34a7b96",
   "metadata": {},
   "outputs": [
    {
     "name": "stdout",
     "output_type": "stream",
     "text": [
      "The accuracy score for a default SVC on this wine data set is: 0.8875\n"
     ]
    }
   ],
   "source": [
    "y_pred = support_vector.predict(X_test)\n",
    "print(\"The accuracy score for a default SVC on this wine data set is: \" + str(accuracy_score(y_test, y_pred)))"
   ]
  },
  {
   "cell_type": "markdown",
   "id": "6bda598b",
   "metadata": {},
   "source": [
    "The precision for this model as a linear SVC is around 89%. That is good! But...I think we can do better by optimizing our hyperparameters. The next part of our project will be using GridSearchCV to determine which are the optimized parameters to use for this SVC. The parameters I will try are C and gamma between 0.5 and 1.5 (in 0.1 increments), and then kernels methods of \"linear\" and \"rbf\"."
   ]
  },
  {
   "cell_type": "code",
   "execution_count": 19,
   "id": "907b39cf",
   "metadata": {},
   "outputs": [],
   "source": [
    "parameters = {'C': [0.5,0.6,0.7,0.8,0.9,1.0,1.1,1.2,1.3,1.4,1.5],\n",
    "              'kernel':['linear', 'rbf'],\n",
    "              'gamma':[0.5,0.6,0.7,0.8,0.9,1.0,1.1,1.2,1.3,1.4,1.5]}"
   ]
  },
  {
   "cell_type": "markdown",
   "id": "80f42689",
   "metadata": {},
   "source": [
    "Now, I will do a Grid Search using those parameters and fitting to the current training dataset."
   ]
  },
  {
   "cell_type": "code",
   "execution_count": 20,
   "id": "14e9dbed",
   "metadata": {},
   "outputs": [],
   "source": [
    "svc = SVC()\n",
    "grid = GridSearchCV(svc, param_grid=parameters, cv=10, scoring='accuracy')"
   ]
  },
  {
   "cell_type": "code",
   "execution_count": 21,
   "id": "d0c48ab7",
   "metadata": {},
   "outputs": [
    {
     "data": {
      "text/plain": [
       "GridSearchCV(cv=10, estimator=SVC(),\n",
       "             param_grid={'C': [0.5, 0.6, 0.7, 0.8, 0.9, 1.0, 1.1, 1.2, 1.3, 1.4,\n",
       "                               1.5],\n",
       "                         'gamma': [0.5, 0.6, 0.7, 0.8, 0.9, 1.0, 1.1, 1.2, 1.3,\n",
       "                                   1.4, 1.5],\n",
       "                         'kernel': ['linear', 'rbf']},\n",
       "             scoring='accuracy')"
      ]
     },
     "execution_count": 21,
     "metadata": {},
     "output_type": "execute_result"
    }
   ],
   "source": [
    "grid.fit(X_train, y_train)"
   ]
  },
  {
   "cell_type": "code",
   "execution_count": 22,
   "id": "bfccbd35",
   "metadata": {},
   "outputs": [
    {
     "data": {
      "text/plain": [
       "{'C': 1.4, 'gamma': 0.7, 'kernel': 'rbf'}"
      ]
     },
     "execution_count": 22,
     "metadata": {},
     "output_type": "execute_result"
    }
   ],
   "source": [
    "grid.best_params_"
   ]
  },
  {
   "cell_type": "markdown",
   "id": "c06f3a50",
   "metadata": {},
   "source": [
    "By doing the grid search, I was able to find the optimal parameters for an SVC with this data set. They are C = 1.4, gamma of 0.7, and kernel being rbf. I will now enter those into the SVC model and fit to the training data to determine the new accuracy."
   ]
  },
  {
   "cell_type": "code",
   "execution_count": 23,
   "id": "f4007217",
   "metadata": {},
   "outputs": [
    {
     "name": "stdout",
     "output_type": "stream",
     "text": [
      "The accuracy score for an SVC with optimized parameters on this wine data set is: 0.9025\n"
     ]
    }
   ],
   "source": [
    "svc2 = SVC(C=1.4, gamma= 0.7, kernel = 'rbf')\n",
    "svc2.fit(X_train,y_train)\n",
    "y_pred2 = svc2.predict(X_test)\n",
    "print(\"The accuracy score for an SVC with optimized parameters on this wine data set is: \" + str(accuracy_score(y_test, y_pred2)))"
   ]
  },
  {
   "cell_type": "markdown",
   "id": "f9b94b3d",
   "metadata": {},
   "source": [
    "OK! I was able to increase the accuracy to over 90% by tweaking and optimizing the parameters a bit. "
   ]
  },
  {
   "cell_type": "markdown",
   "id": "d696401e",
   "metadata": {},
   "source": [
    "Now, I am going to show which features are most important to this RBF model."
   ]
  },
  {
   "cell_type": "code",
   "execution_count": 24,
   "id": "cdcc34fc",
   "metadata": {},
   "outputs": [
    {
     "data": {
      "image/png": "[encoded data removed]",
      "text/plain": [
       "<Figure size 1440x288 with 1 Axes>"
      ]
     },
     "metadata": {
      "needs_background": "light"
     },
     "output_type": "display_data"
    }
   ],
   "source": [
    "imp_vals, imp_all = feature_importance_permutation(\n",
    "    predict_method=svc2.predict, \n",
    "    X=X_test,\n",
    "    y=y_test,\n",
    "    metric='accuracy',\n",
    "    num_rounds=10,\n",
    "    seed=1)\n",
    "\n",
    "\n",
    "std = np.std(imp_all, axis=1)\n",
    "indices = np.argsort(imp_vals)[::-1]\n",
    "\n",
    "plt.figure().set_figwidth(20)\n",
    "plt.title(\"SVM feature importance - Wine Data Features\")\n",
    "plt.bar(range(X.shape[1]), imp_vals[indices],\n",
    "        yerr=std[indices])\n",
    "plt.xticks(range(X.shape[1]), X.columns)\n",
    "plt.xlim([-1, X.shape[1]])\n",
    "plt.show()"
   ]
  },
  {
   "cell_type": "markdown",
   "id": "fb49f648",
   "metadata": {},
   "source": [
    "According to this feature importance chart, the main three important features for SVM here are Fixed Acidity, Volatile Acidity, Citric Acid.\n",
    "\n",
    "I see that alcohol is not important by comparison. One last thing I am going to try is to remove the alcohol column from the dataset and try another SVC this new subset of features. I will follow the same steps as above, but with a dataset without \"alcohol\" as a column. This is the iterative process of model building."
   ]
  },
  {
   "cell_type": "code",
   "execution_count": 25,
   "id": "f565b40f",
   "metadata": {},
   "outputs": [],
   "source": [
    "X2 = X.drop('alcohol', axis = 1)\n",
    "y2 = wine_data['quality']\n",
    "X2_train, X2_test, y2_train, y2_test = train_test_split(X2, y2, test_size = 0.25, random_state = 42)"
   ]
  },
  {
   "cell_type": "code",
   "execution_count": 26,
   "id": "d10ac0e5",
   "metadata": {},
   "outputs": [],
   "source": [
    "sc = StandardScaler()\n",
    "X2_train = sc.fit_transform(X2_train)\n",
    "X2_test = sc.fit_transform(X2_test)"
   ]
  },
  {
   "cell_type": "code",
   "execution_count": 27,
   "id": "be57ed57",
   "metadata": {},
   "outputs": [],
   "source": [
    "svc = SVC()\n",
    "grid = GridSearchCV(svc, param_grid=parameters, cv=10, scoring='accuracy')"
   ]
  },
  {
   "cell_type": "code",
   "execution_count": 28,
   "id": "31c7227e",
   "metadata": {},
   "outputs": [
    {
     "data": {
      "text/plain": [
       "GridSearchCV(cv=10, estimator=SVC(),\n",
       "             param_grid={'C': [0.5, 0.6, 0.7, 0.8, 0.9, 1.0, 1.1, 1.2, 1.3, 1.4,\n",
       "                               1.5],\n",
       "                         'gamma': [0.5, 0.6, 0.7, 0.8, 0.9, 1.0, 1.1, 1.2, 1.3,\n",
       "                                   1.4, 1.5],\n",
       "                         'kernel': ['linear', 'rbf']},\n",
       "             scoring='accuracy')"
      ]
     },
     "execution_count": 28,
     "metadata": {},
     "output_type": "execute_result"
    }
   ],
   "source": [
    "grid.fit(X2_train, y2_train)"
   ]
  },
  {
   "cell_type": "code",
   "execution_count": 29,
   "id": "6e522350",
   "metadata": {},
   "outputs": [
    {
     "data": {
      "text/plain": [
       "{'C': 1.5, 'gamma': 1.0, 'kernel': 'rbf'}"
      ]
     },
     "execution_count": 29,
     "metadata": {},
     "output_type": "execute_result"
    }
   ],
   "source": [
    "grid.best_params_"
   ]
  },
  {
   "cell_type": "code",
   "execution_count": 30,
   "id": "8e131c50",
   "metadata": {},
   "outputs": [
    {
     "name": "stdout",
     "output_type": "stream",
     "text": [
      "The accuracy score for an SVC with optimized parameters on this wine data set is: 0.9125\n"
     ]
    }
   ],
   "source": [
    "svc3 = SVC(C=1.5, gamma= 1.0, kernel = 'rbf')\n",
    "svc3.fit(X2_train,y2_train)\n",
    "y_pred3 = svc3.predict(X2_test)\n",
    "print(\"The accuracy score for an SVC with optimized parameters on this wine data set is: \" + str(accuracy_score(y2_test, y_pred3)))"
   ]
  },
  {
   "cell_type": "markdown",
   "id": "de0ac501",
   "metadata": {},
   "source": [
    "By removing alcohol content datapoint, we optimized even more to 91.25% accuracy! Without overfitting or over-optimizing, I am pretty content with this model and the results."
   ]
  },
  {
   "cell_type": "markdown",
   "id": "889ff656",
   "metadata": {},
   "source": [
    "### Conclusion\n",
    "\n",
    "Based on this data set and by using a support vector machine, I was able to clean the data, explore the data, optimize the model using GridSearch, and then continue iterating by removing further columns and lesser importance. By doing so, I was able to achieve a machine learning model with an accuracy score of over 91% accuracy. \n",
    "\n",
    "Ways I could continue to improve the model is to maybe consider some of the other supervised learning models we covered in class, such as a random forest, and then laying the SVM on top of the random forest of features.\n",
    "\n",
    "Overall, I had a great time working on this project. Thank you for reading!"
   ]
  }
 ],
 "metadata": {
  "kernelspec": {
   "display_name": "Python 3 (ipykernel)",
   "language": "python",
   "name": "python3"
  },
  "language_info": {
   "codemirror_mode": {
    "name": "ipython",
    "version": 3
   },
   "file_extension": ".py",
   "mimetype": "text/x-python",
   "name": "python",
   "nbconvert_exporter": "python",
   "pygments_lexer": "ipython3",
   "version": "3.9.12"
  }
 },
 "nbformat": 4,
 "nbformat_minor": 5
}
